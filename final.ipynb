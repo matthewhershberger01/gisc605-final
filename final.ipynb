{
  "nbformat": 4,
  "nbformat_minor": 0,
  "metadata": {
    "colab": {
      "provenance": []
    },
    "kernelspec": {
      "name": "python3",
      "display_name": "Python 3"
    },
    "language_info": {
      "name": "python"
    }
  },
  "cells": [
    {
      "cell_type": "code",
      "execution_count": null,
      "metadata": {
        "id": "_SH3T9-Wg_dq"
      },
      "outputs": [],
      "source": [
        "howdy_planet = \"Howdy Planet!\"\n",
        "print (howdy_planet)\n",
        "howdy_planet"
      ]
    },
    {
      "cell_type": "code",
      "source": [
        "howdy_planet"
      ],
      "metadata": {
        "colab": {
          "base_uri": "https://localhost:8080/",
          "height": 35
        },
        "id": "857EnT5iihmX",
        "outputId": "31375f4c-db9a-48f8-fcd3-532537a909aa"
      },
      "execution_count": 5,
      "outputs": [
        {
          "output_type": "execute_result",
          "data": {
            "text/plain": [
              "'Howdy Planet!'"
            ],
            "application/vnd.google.colaboratory.intrinsic+json": {
              "type": "string"
            }
          },
          "metadata": {},
          "execution_count": 5
        }
      ]
    },
    {
      "cell_type": "code",
      "source": [
        "directions = [\"North\", \"South\", \"East\", \"West\"]\n",
        "for direction in directions:\n",
        "  print (direction)"
      ],
      "metadata": {
        "colab": {
          "base_uri": "https://localhost:8080/"
        },
        "id": "b-ov99xkivrO",
        "outputId": "15239cd2-410b-4bfb-fac5-f04342480ed1"
      },
      "execution_count": 6,
      "outputs": [
        {
          "output_type": "stream",
          "name": "stdout",
          "text": [
            "North\n",
            "South\n",
            "East\n",
            "West\n"
          ]
        }
      ]
    }
  ]
}